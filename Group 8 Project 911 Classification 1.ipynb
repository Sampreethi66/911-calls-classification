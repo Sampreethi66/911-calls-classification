{
 "cells": [
  {
   "cell_type": "code",
   "execution_count": 2,
   "id": "93b138d7",
   "metadata": {},
   "outputs": [],
   "source": [
    "# Import pandas and numpy\n",
    "import numpy as np \n",
    "import pandas as pd\n",
    "\n",
    "# Import matplotlib for plotting and to specify that graphs should be plotted inline\n",
    "import matplotlib.pyplot as plt\n",
    "%matplotlib inline\n",
    "\n",
    "import warnings\n",
    "warnings.filterwarnings('ignore')\n",
    "\n",
    "# Import libraries to generate models\n",
    "from sklearn.model_selection import train_test_split\n",
    "from sklearn.metrics import accuracy_score\n",
    "from sklearn.linear_model import LogisticRegression\n",
    "from sklearn.metrics import roc_auc_score, roc_curve\n",
    "from sklearn.metrics import confusion_matrix\n",
    "from sklearn.model_selection import GridSearchCV\n",
    "from sklearn.tree import DecisionTreeClassifier\n",
    "from sklearn import tree\n",
    "from sklearn.svm import LinearSVC\n",
    "from sklearn.svm import SVC\n",
    "from sklearn.metrics import accuracy_score, classification_report\n",
    "from sklearn.preprocessing import LabelEncoder, StandardScaler\n"
   ]
  },
  {
   "cell_type": "code",
   "execution_count": 3,
   "id": "cc4c8ee4",
   "metadata": {},
   "outputs": [],
   "source": [
    "#Reading the dataset\n",
    "df=pd.read_excel(\"911 Call Classification data 2.xlsx\")"
   ]
  },
  {
   "cell_type": "code",
   "execution_count": 4,
   "id": "c307ad20",
   "metadata": {},
   "outputs": [
    {
     "name": "stdout",
     "output_type": "stream",
     "text": [
      "(1048575, 21)\n",
      "           recordId                   callDateTime     timestamp  \\\n",
      "count  1.048575e+06                        1048575  1.048575e+06   \n",
      "mean   5.242880e+05  2022-01-21 14:26:22.889349632  1.642775e+09   \n",
      "min    1.000000e+00            2020-12-31 23:00:00  1.609456e+09   \n",
      "25%    2.621445e+05            2021-07-15 08:58:30  1.626340e+09   \n",
      "50%    5.242880e+05            2022-01-25 16:22:00  1.643128e+09   \n",
      "75%    7.864315e+05            2022-07-21 16:05:00  1.658420e+09   \n",
      "max    1.048575e+06            2023-02-01 23:30:00  1.675294e+09   \n",
      "std    3.026977e+05                            NaN  1.874324e+07   \n",
      "\n",
      "         PolicePost  CouncilDistrict       ZIPCode     NeedsSync  \\\n",
      "count  1.047557e+06     1.047605e+06  1.047077e+06  1.048575e+06   \n",
      "mean   5.157490e+02     8.070009e+00  2.121717e+04  9.988356e-01   \n",
      "min    1.110000e+02     1.000000e+00  2.120100e+04  0.000000e+00   \n",
      "25%    3.110000e+02     5.000000e+00  2.121100e+04  1.000000e+00   \n",
      "50%    5.130000e+02     9.000000e+00  2.121700e+04  1.000000e+00   \n",
      "75%    7.330000e+02     1.100000e+01  2.122400e+04  1.000000e+00   \n",
      "max    9.430000e+02     1.400000e+01  2.128700e+04  1.000000e+00   \n",
      "std    2.653806e+02     3.868166e+00  1.062272e+01  3.410400e-02   \n",
      "\n",
      "           ESRI_OID  Column1  \n",
      "count  1.048575e+06      0.0  \n",
      "mean   4.686885e+05      NaN  \n",
      "min    2.700000e+01      NaN  \n",
      "25%    2.041705e+05      NaN  \n",
      "50%    4.663150e+05      NaN  \n",
      "75%    7.284585e+05      NaN  \n",
      "max    9.906020e+05      NaN  \n",
      "std    2.989310e+05      NaN  \n",
      "<class 'pandas.core.frame.DataFrame'>\n",
      "RangeIndex: 1048575 entries, 0 to 1048574\n",
      "Data columns (total 21 columns):\n",
      " #   Column                       Non-Null Count    Dtype         \n",
      "---  ------                       --------------    -----         \n",
      " 0   recordId                     1048575 non-null  int64         \n",
      " 1   callKey                      1048575 non-null  object        \n",
      " 2   callDateTime                 1048575 non-null  datetime64[ns]\n",
      " 3   timestamp                    1048575 non-null  float64       \n",
      " 4   priority                     1048574 non-null  object        \n",
      " 5   district                     1048575 non-null  object        \n",
      " 6   description                  1048575 non-null  object        \n",
      " 7   callNumber                   1048575 non-null  object        \n",
      " 8   incidentLocation             1048575 non-null  object        \n",
      " 9   location                     1048575 non-null  object        \n",
      " 10  Neighborhood                 1047449 non-null  object        \n",
      " 11  PoliceDistrict               1047557 non-null  object        \n",
      " 12  PolicePost                   1047557 non-null  float64       \n",
      " 13  CouncilDistrict              1047605 non-null  float64       \n",
      " 14  SheriffDistricts             1047529 non-null  object        \n",
      " 15  Community_Statistical_Areas  1046928 non-null  object        \n",
      " 16  Census_Tracts                1047489 non-null  object        \n",
      " 17  ZIPCode                      1047077 non-null  float64       \n",
      " 18  NeedsSync                    1048575 non-null  int64         \n",
      " 19  ESRI_OID                     1048575 non-null  int64         \n",
      " 20  Column1                      0 non-null        float64       \n",
      "dtypes: datetime64[ns](1), float64(5), int64(3), object(12)\n",
      "memory usage: 168.0+ MB\n",
      "None\n"
     ]
    },
    {
     "data": {
      "text/html": [
       "<div>\n",
       "<style scoped>\n",
       "    .dataframe tbody tr th:only-of-type {\n",
       "        vertical-align: middle;\n",
       "    }\n",
       "\n",
       "    .dataframe tbody tr th {\n",
       "        vertical-align: top;\n",
       "    }\n",
       "\n",
       "    .dataframe thead th {\n",
       "        text-align: right;\n",
       "    }\n",
       "</style>\n",
       "<table border=\"1\" class=\"dataframe\">\n",
       "  <thead>\n",
       "    <tr style=\"text-align: right;\">\n",
       "      <th></th>\n",
       "      <th>recordId</th>\n",
       "      <th>callKey</th>\n",
       "      <th>callDateTime</th>\n",
       "      <th>timestamp</th>\n",
       "      <th>priority</th>\n",
       "      <th>district</th>\n",
       "      <th>description</th>\n",
       "      <th>callNumber</th>\n",
       "      <th>incidentLocation</th>\n",
       "      <th>location</th>\n",
       "      <th>...</th>\n",
       "      <th>PoliceDistrict</th>\n",
       "      <th>PolicePost</th>\n",
       "      <th>CouncilDistrict</th>\n",
       "      <th>SheriffDistricts</th>\n",
       "      <th>Community_Statistical_Areas</th>\n",
       "      <th>Census_Tracts</th>\n",
       "      <th>ZIPCode</th>\n",
       "      <th>NeedsSync</th>\n",
       "      <th>ESRI_OID</th>\n",
       "      <th>Column1</th>\n",
       "    </tr>\n",
       "  </thead>\n",
       "  <tbody>\n",
       "    <tr>\n",
       "      <th>0</th>\n",
       "      <td>1</td>\n",
       "      <td>10CC9DA95FF34377</td>\n",
       "      <td>2021-01-04 10:33:00</td>\n",
       "      <td>1.609756e+09</td>\n",
       "      <td>Low</td>\n",
       "      <td>TRU</td>\n",
       "      <td>HIT AND RUN</td>\n",
       "      <td>P210041843</td>\n",
       "      <td>3500 AILSA AV</td>\n",
       "      <td>3500 AILSA AV BALTIMORE MD</td>\n",
       "      <td>...</td>\n",
       "      <td>Northeastern</td>\n",
       "      <td>426.0</td>\n",
       "      <td>2.0</td>\n",
       "      <td>D4</td>\n",
       "      <td>Lauraville</td>\n",
       "      <td>Census Tract 2701.02</td>\n",
       "      <td>21214.0</td>\n",
       "      <td>0</td>\n",
       "      <td>79</td>\n",
       "      <td>NaN</td>\n",
       "    </tr>\n",
       "    <tr>\n",
       "      <th>1</th>\n",
       "      <td>2</td>\n",
       "      <td>10CC9DA95FF3518A</td>\n",
       "      <td>2021-01-04 11:34:00</td>\n",
       "      <td>1.609760e+09</td>\n",
       "      <td>Medium</td>\n",
       "      <td>WD</td>\n",
       "      <td>NARCOTICS</td>\n",
       "      <td>P210042073</td>\n",
       "      <td>1700 N CALHOUN ST</td>\n",
       "      <td>1700 N CALHOUN ST BALTIMORE MD</td>\n",
       "      <td>...</td>\n",
       "      <td>Western</td>\n",
       "      <td>742.0</td>\n",
       "      <td>7.0</td>\n",
       "      <td>D9</td>\n",
       "      <td>Sandtown-Winchester/Harlem Park</td>\n",
       "      <td>Census Tract 1501</td>\n",
       "      <td>21217.0</td>\n",
       "      <td>0</td>\n",
       "      <td>80</td>\n",
       "      <td>NaN</td>\n",
       "    </tr>\n",
       "    <tr>\n",
       "      <th>2</th>\n",
       "      <td>3</td>\n",
       "      <td>10CC9DA95FF35312</td>\n",
       "      <td>2021-01-04 11:40:00</td>\n",
       "      <td>1.609760e+09</td>\n",
       "      <td>Low</td>\n",
       "      <td>CD</td>\n",
       "      <td>OTHER</td>\n",
       "      <td>P210042088</td>\n",
       "      <td>2000 DRUID HILL AV</td>\n",
       "      <td>2000 DRUID HILL AV BALTIMORE MD</td>\n",
       "      <td>...</td>\n",
       "      <td>Central</td>\n",
       "      <td>131.0</td>\n",
       "      <td>11.0</td>\n",
       "      <td>D8</td>\n",
       "      <td>Upton/Druid Heights</td>\n",
       "      <td>Census Tract 1403</td>\n",
       "      <td>21217.0</td>\n",
       "      <td>0</td>\n",
       "      <td>81</td>\n",
       "      <td>NaN</td>\n",
       "    </tr>\n",
       "    <tr>\n",
       "      <th>3</th>\n",
       "      <td>4</td>\n",
       "      <td>10CC9DA95FF3543D</td>\n",
       "      <td>2021-01-04 11:45:00</td>\n",
       "      <td>1.609761e+09</td>\n",
       "      <td>Medium</td>\n",
       "      <td>SD</td>\n",
       "      <td>NARCOTICS</td>\n",
       "      <td>P210042103</td>\n",
       "      <td>600 S PAYSON ST</td>\n",
       "      <td>600 S PAYSON ST BALTIMORE MD</td>\n",
       "      <td>...</td>\n",
       "      <td>Southern</td>\n",
       "      <td>934.0</td>\n",
       "      <td>9.0</td>\n",
       "      <td>D8</td>\n",
       "      <td>Southwest Baltimore</td>\n",
       "      <td>Census Tract 2003</td>\n",
       "      <td>21223.0</td>\n",
       "      <td>0</td>\n",
       "      <td>82</td>\n",
       "      <td>NaN</td>\n",
       "    </tr>\n",
       "    <tr>\n",
       "      <th>4</th>\n",
       "      <td>5</td>\n",
       "      <td>10CC9DA95FF4659A</td>\n",
       "      <td>2021-01-05 07:11:00</td>\n",
       "      <td>1.609831e+09</td>\n",
       "      <td>Low</td>\n",
       "      <td>TRU</td>\n",
       "      <td>DESTRUCT PROP</td>\n",
       "      <td>P210051288</td>\n",
       "      <td>3600 CHESTERFIELD AV</td>\n",
       "      <td>3600 CHESTERFIELD AV BALTIMORE MD</td>\n",
       "      <td>...</td>\n",
       "      <td>Northeastern</td>\n",
       "      <td>432.0</td>\n",
       "      <td>13.0</td>\n",
       "      <td>D6</td>\n",
       "      <td>Belair-Edison</td>\n",
       "      <td>Census Tract 2603.02</td>\n",
       "      <td>21213.0</td>\n",
       "      <td>0</td>\n",
       "      <td>83</td>\n",
       "      <td>NaN</td>\n",
       "    </tr>\n",
       "  </tbody>\n",
       "</table>\n",
       "<p>5 rows × 21 columns</p>\n",
       "</div>"
      ],
      "text/plain": [
       "   recordId           callKey        callDateTime     timestamp priority  \\\n",
       "0         1  10CC9DA95FF34377 2021-01-04 10:33:00  1.609756e+09      Low   \n",
       "1         2  10CC9DA95FF3518A 2021-01-04 11:34:00  1.609760e+09   Medium   \n",
       "2         3  10CC9DA95FF35312 2021-01-04 11:40:00  1.609760e+09      Low   \n",
       "3         4  10CC9DA95FF3543D 2021-01-04 11:45:00  1.609761e+09   Medium   \n",
       "4         5  10CC9DA95FF4659A 2021-01-05 07:11:00  1.609831e+09      Low   \n",
       "\n",
       "  district    description  callNumber      incidentLocation  \\\n",
       "0      TRU    HIT AND RUN  P210041843         3500 AILSA AV   \n",
       "1       WD      NARCOTICS  P210042073     1700 N CALHOUN ST   \n",
       "2       CD          OTHER  P210042088    2000 DRUID HILL AV   \n",
       "3       SD      NARCOTICS  P210042103       600 S PAYSON ST   \n",
       "4      TRU  DESTRUCT PROP  P210051288  3600 CHESTERFIELD AV   \n",
       "\n",
       "                            location  ... PoliceDistrict PolicePost  \\\n",
       "0         3500 AILSA AV BALTIMORE MD  ...   Northeastern      426.0   \n",
       "1     1700 N CALHOUN ST BALTIMORE MD  ...        Western      742.0   \n",
       "2    2000 DRUID HILL AV BALTIMORE MD  ...        Central      131.0   \n",
       "3       600 S PAYSON ST BALTIMORE MD  ...       Southern      934.0   \n",
       "4  3600 CHESTERFIELD AV BALTIMORE MD  ...   Northeastern      432.0   \n",
       "\n",
       "   CouncilDistrict  SheriffDistricts      Community_Statistical_Areas  \\\n",
       "0              2.0                D4                       Lauraville   \n",
       "1              7.0                D9  Sandtown-Winchester/Harlem Park   \n",
       "2             11.0                D8              Upton/Druid Heights   \n",
       "3              9.0                D8              Southwest Baltimore   \n",
       "4             13.0                D6                    Belair-Edison   \n",
       "\n",
       "          Census_Tracts  ZIPCode  NeedsSync  ESRI_OID  Column1  \n",
       "0  Census Tract 2701.02  21214.0          0        79      NaN  \n",
       "1     Census Tract 1501  21217.0          0        80      NaN  \n",
       "2     Census Tract 1403  21217.0          0        81      NaN  \n",
       "3     Census Tract 2003  21223.0          0        82      NaN  \n",
       "4  Census Tract 2603.02  21213.0          0        83      NaN  \n",
       "\n",
       "[5 rows x 21 columns]"
      ]
     },
     "execution_count": 4,
     "metadata": {},
     "output_type": "execute_result"
    }
   ],
   "source": [
    "#Summary of the dataset\n",
    "print(df.shape)\n",
    "print(df.describe())\n",
    "print(df.info())\n",
    "df.head()"
   ]
  },
  {
   "cell_type": "code",
   "execution_count": 5,
   "id": "d318a4ae",
   "metadata": {},
   "outputs": [],
   "source": [
    "# Convert 'callDateTime' column to datetime format\n",
    "df['callDateTime'] = pd.to_datetime(df['callDateTime'])\n",
    "\n",
    "# Extract day of the week and store it in a new column named 'day'\n",
    "df['day'] = df['callDateTime'].dt.dayofweek\n",
    "\n",
    "# Drop original 'callDateTime' column and 'Column1' and Census _tracts column\n",
    "df.drop(columns=['callDateTime', 'Column1', 'Census_Tracts'], inplace=True)"
   ]
  },
  {
   "cell_type": "code",
   "execution_count": 6,
   "id": "01c643a6",
   "metadata": {},
   "outputs": [
    {
     "data": {
      "text/html": [
       "<div>\n",
       "<style scoped>\n",
       "    .dataframe tbody tr th:only-of-type {\n",
       "        vertical-align: middle;\n",
       "    }\n",
       "\n",
       "    .dataframe tbody tr th {\n",
       "        vertical-align: top;\n",
       "    }\n",
       "\n",
       "    .dataframe thead th {\n",
       "        text-align: right;\n",
       "    }\n",
       "</style>\n",
       "<table border=\"1\" class=\"dataframe\">\n",
       "  <thead>\n",
       "    <tr style=\"text-align: right;\">\n",
       "      <th></th>\n",
       "      <th>recordId</th>\n",
       "      <th>callKey</th>\n",
       "      <th>timestamp</th>\n",
       "      <th>priority</th>\n",
       "      <th>district</th>\n",
       "      <th>description</th>\n",
       "      <th>callNumber</th>\n",
       "      <th>incidentLocation</th>\n",
       "      <th>location</th>\n",
       "      <th>Neighborhood</th>\n",
       "      <th>PoliceDistrict</th>\n",
       "      <th>PolicePost</th>\n",
       "      <th>CouncilDistrict</th>\n",
       "      <th>SheriffDistricts</th>\n",
       "      <th>Community_Statistical_Areas</th>\n",
       "      <th>ZIPCode</th>\n",
       "      <th>NeedsSync</th>\n",
       "      <th>ESRI_OID</th>\n",
       "      <th>day</th>\n",
       "    </tr>\n",
       "  </thead>\n",
       "  <tbody>\n",
       "    <tr>\n",
       "      <th>0</th>\n",
       "      <td>1</td>\n",
       "      <td>10CC9DA95FF34377</td>\n",
       "      <td>1.609756e+09</td>\n",
       "      <td>Low</td>\n",
       "      <td>TRU</td>\n",
       "      <td>HIT AND RUN</td>\n",
       "      <td>P210041843</td>\n",
       "      <td>3500 AILSA AV</td>\n",
       "      <td>3500 AILSA AV BALTIMORE MD</td>\n",
       "      <td>Waltherson</td>\n",
       "      <td>Northeastern</td>\n",
       "      <td>426.0</td>\n",
       "      <td>2.0</td>\n",
       "      <td>D4</td>\n",
       "      <td>Lauraville</td>\n",
       "      <td>21214.0</td>\n",
       "      <td>0</td>\n",
       "      <td>79</td>\n",
       "      <td>0</td>\n",
       "    </tr>\n",
       "    <tr>\n",
       "      <th>1</th>\n",
       "      <td>2</td>\n",
       "      <td>10CC9DA95FF3518A</td>\n",
       "      <td>1.609760e+09</td>\n",
       "      <td>Medium</td>\n",
       "      <td>WD</td>\n",
       "      <td>NARCOTICS</td>\n",
       "      <td>P210042073</td>\n",
       "      <td>1700 N CALHOUN ST</td>\n",
       "      <td>1700 N CALHOUN ST BALTIMORE MD</td>\n",
       "      <td>Sandtown-Winchester</td>\n",
       "      <td>Western</td>\n",
       "      <td>742.0</td>\n",
       "      <td>7.0</td>\n",
       "      <td>D9</td>\n",
       "      <td>Sandtown-Winchester/Harlem Park</td>\n",
       "      <td>21217.0</td>\n",
       "      <td>0</td>\n",
       "      <td>80</td>\n",
       "      <td>0</td>\n",
       "    </tr>\n",
       "    <tr>\n",
       "      <th>2</th>\n",
       "      <td>3</td>\n",
       "      <td>10CC9DA95FF35312</td>\n",
       "      <td>1.609760e+09</td>\n",
       "      <td>Low</td>\n",
       "      <td>CD</td>\n",
       "      <td>OTHER</td>\n",
       "      <td>P210042088</td>\n",
       "      <td>2000 DRUID HILL AV</td>\n",
       "      <td>2000 DRUID HILL AV BALTIMORE MD</td>\n",
       "      <td>Druid Heights</td>\n",
       "      <td>Central</td>\n",
       "      <td>131.0</td>\n",
       "      <td>11.0</td>\n",
       "      <td>D8</td>\n",
       "      <td>Upton/Druid Heights</td>\n",
       "      <td>21217.0</td>\n",
       "      <td>0</td>\n",
       "      <td>81</td>\n",
       "      <td>0</td>\n",
       "    </tr>\n",
       "    <tr>\n",
       "      <th>3</th>\n",
       "      <td>4</td>\n",
       "      <td>10CC9DA95FF3543D</td>\n",
       "      <td>1.609761e+09</td>\n",
       "      <td>Medium</td>\n",
       "      <td>SD</td>\n",
       "      <td>NARCOTICS</td>\n",
       "      <td>P210042103</td>\n",
       "      <td>600 S PAYSON ST</td>\n",
       "      <td>600 S PAYSON ST BALTIMORE MD</td>\n",
       "      <td>Carrollton Ridge</td>\n",
       "      <td>Southern</td>\n",
       "      <td>934.0</td>\n",
       "      <td>9.0</td>\n",
       "      <td>D8</td>\n",
       "      <td>Southwest Baltimore</td>\n",
       "      <td>21223.0</td>\n",
       "      <td>0</td>\n",
       "      <td>82</td>\n",
       "      <td>0</td>\n",
       "    </tr>\n",
       "    <tr>\n",
       "      <th>4</th>\n",
       "      <td>5</td>\n",
       "      <td>10CC9DA95FF4659A</td>\n",
       "      <td>1.609831e+09</td>\n",
       "      <td>Low</td>\n",
       "      <td>TRU</td>\n",
       "      <td>DESTRUCT PROP</td>\n",
       "      <td>P210051288</td>\n",
       "      <td>3600 CHESTERFIELD AV</td>\n",
       "      <td>3600 CHESTERFIELD AV BALTIMORE MD</td>\n",
       "      <td>Belair-Edison</td>\n",
       "      <td>Northeastern</td>\n",
       "      <td>432.0</td>\n",
       "      <td>13.0</td>\n",
       "      <td>D6</td>\n",
       "      <td>Belair-Edison</td>\n",
       "      <td>21213.0</td>\n",
       "      <td>0</td>\n",
       "      <td>83</td>\n",
       "      <td>1</td>\n",
       "    </tr>\n",
       "  </tbody>\n",
       "</table>\n",
       "</div>"
      ],
      "text/plain": [
       "   recordId           callKey     timestamp priority district    description  \\\n",
       "0         1  10CC9DA95FF34377  1.609756e+09      Low      TRU    HIT AND RUN   \n",
       "1         2  10CC9DA95FF3518A  1.609760e+09   Medium       WD      NARCOTICS   \n",
       "2         3  10CC9DA95FF35312  1.609760e+09      Low       CD          OTHER   \n",
       "3         4  10CC9DA95FF3543D  1.609761e+09   Medium       SD      NARCOTICS   \n",
       "4         5  10CC9DA95FF4659A  1.609831e+09      Low      TRU  DESTRUCT PROP   \n",
       "\n",
       "   callNumber      incidentLocation                           location  \\\n",
       "0  P210041843         3500 AILSA AV         3500 AILSA AV BALTIMORE MD   \n",
       "1  P210042073     1700 N CALHOUN ST     1700 N CALHOUN ST BALTIMORE MD   \n",
       "2  P210042088    2000 DRUID HILL AV    2000 DRUID HILL AV BALTIMORE MD   \n",
       "3  P210042103       600 S PAYSON ST       600 S PAYSON ST BALTIMORE MD   \n",
       "4  P210051288  3600 CHESTERFIELD AV  3600 CHESTERFIELD AV BALTIMORE MD   \n",
       "\n",
       "          Neighborhood PoliceDistrict  PolicePost  CouncilDistrict  \\\n",
       "0           Waltherson   Northeastern       426.0              2.0   \n",
       "1  Sandtown-Winchester        Western       742.0              7.0   \n",
       "2        Druid Heights        Central       131.0             11.0   \n",
       "3     Carrollton Ridge       Southern       934.0              9.0   \n",
       "4        Belair-Edison   Northeastern       432.0             13.0   \n",
       "\n",
       "  SheriffDistricts      Community_Statistical_Areas  ZIPCode  NeedsSync  \\\n",
       "0               D4                       Lauraville  21214.0          0   \n",
       "1               D9  Sandtown-Winchester/Harlem Park  21217.0          0   \n",
       "2               D8              Upton/Druid Heights  21217.0          0   \n",
       "3               D8              Southwest Baltimore  21223.0          0   \n",
       "4               D6                    Belair-Edison  21213.0          0   \n",
       "\n",
       "   ESRI_OID  day  \n",
       "0        79    0  \n",
       "1        80    0  \n",
       "2        81    0  \n",
       "3        82    0  \n",
       "4        83    1  "
      ]
     },
     "execution_count": 6,
     "metadata": {},
     "output_type": "execute_result"
    }
   ],
   "source": [
    "df.head()"
   ]
  },
  {
   "cell_type": "code",
   "execution_count": 7,
   "id": "c4f00a5d",
   "metadata": {},
   "outputs": [
    {
     "name": "stdout",
     "output_type": "stream",
     "text": [
      "recordId                       0\n",
      "callKey                        0\n",
      "timestamp                      0\n",
      "priority                       0\n",
      "district                       0\n",
      "description                    0\n",
      "callNumber                     0\n",
      "incidentLocation               0\n",
      "location                       0\n",
      "Neighborhood                   0\n",
      "PoliceDistrict                 0\n",
      "PolicePost                     0\n",
      "CouncilDistrict                0\n",
      "SheriffDistricts               0\n",
      "Community_Statistical_Areas    0\n",
      "ZIPCode                        0\n",
      "NeedsSync                      0\n",
      "ESRI_OID                       0\n",
      "day                            0\n",
      "dtype: int64\n"
     ]
    }
   ],
   "source": [
    "# Drop rows with missing values\n",
    "df.dropna(inplace=True)\n",
    "\n",
    "# Verify if there are any missing values after dropping\n",
    "print(df.isnull().sum())"
   ]
  },
  {
   "cell_type": "code",
   "execution_count": 8,
   "id": "01922bc1",
   "metadata": {},
   "outputs": [
    {
     "data": {
      "text/plain": [
       "array(['Low', 'Medium', 'Non-Emergency', 'High', 'Out of Service',\n",
       "       'Emergency'], dtype=object)"
      ]
     },
     "execution_count": 8,
     "metadata": {},
     "output_type": "execute_result"
    }
   ],
   "source": [
    "#Finding Unique Values in Priority Variable\n",
    "df['priority'].unique()"
   ]
  },
  {
   "cell_type": "code",
   "execution_count": 9,
   "id": "c5304ca8",
   "metadata": {},
   "outputs": [],
   "source": [
    "#Making Priority a binary target variable\n",
    "custom_mapping = {'Out of Service': 0, 'Non-Emergency': 0, 'Low': 0, 'Medium': 1, 'High': 1, 'Emergency': 1}\n",
    "df['priority_ec'] = df['priority'].map(custom_mapping)\n",
    "df.drop(columns=['priority'], inplace=True)"
   ]
  },
  {
   "cell_type": "code",
   "execution_count": 10,
   "id": "a309485a",
   "metadata": {},
   "outputs": [],
   "source": [
    "#Label Encoding to convert categorical variables to numerical variables\n",
    "def label_encode_categoricals(df, categorical_columns):\n",
    "   \n",
    "    df_encoded = df.copy()\n",
    "    label_encoder = LabelEncoder()\n",
    "    for column in categorical_columns:\n",
    "        df_encoded[column + '_ec'] = label_encoder.fit_transform(df[column])\n",
    "    return df_encoded\n",
    "\n",
    "categorical_columns = ['district', 'description', 'incidentLocation', 'location', \n",
    "                      'Neighborhood', 'PoliceDistrict', 'SheriffDistricts', 'Community_Statistical_Areas'] \n",
    "df_encoded = label_encode_categoricals(df, categorical_columns)"
   ]
  },
  {
   "cell_type": "code",
   "execution_count": 11,
   "id": "259e55c2",
   "metadata": {},
   "outputs": [],
   "source": [
    "#Adding New encoded columns and dropping old categorical columns\n",
    "df_encoded.drop(categorical_columns, axis=1, inplace=True)  # Drop original categorical columns\n",
    "df_encoded.rename(columns={col + '_encoded': col for col in categorical_columns}, inplace=True)  # Rename encoded columns to original names"
   ]
  },
  {
   "cell_type": "code",
   "execution_count": 12,
   "id": "9ce7a7d9",
   "metadata": {},
   "outputs": [
    {
     "name": "stdout",
     "output_type": "stream",
     "text": [
      "(1046316, 19)\n",
      "           recordId     timestamp    PolicePost  CouncilDistrict  \\\n",
      "count  1.046316e+06  1.046316e+06  1.046316e+06     1.046316e+06   \n",
      "mean   5.246175e+05  1.642767e+09  5.160161e+02     8.067425e+00   \n",
      "std    3.025360e+05  1.874500e+07  2.652910e+02     3.868050e+00   \n",
      "min    1.000000e+00  1.609456e+09  1.110000e+02     1.000000e+00   \n",
      "25%    2.626358e+05  1.626328e+09  3.110000e+02     5.000000e+00   \n",
      "50%    5.246625e+05  1.643113e+09  5.130000e+02     9.000000e+00   \n",
      "75%    7.866162e+05  1.658427e+09  7.330000e+02     1.100000e+01   \n",
      "max    1.048575e+06  1.675294e+09  9.430000e+02     1.400000e+01   \n",
      "\n",
      "            ZIPCode     NeedsSync      ESRI_OID           day   priority_ec  \\\n",
      "count  1.046316e+06  1.046316e+06  1.046316e+06  1.046316e+06  1.046316e+06   \n",
      "mean   2.121718e+04  9.988455e-01  4.689871e+05  2.991890e+00  4.758553e-01   \n",
      "std    1.061909e+01  3.395873e-02  2.988144e+05  1.976955e+00  4.994169e-01   \n",
      "min    2.120100e+04  0.000000e+00  2.700000e+01  0.000000e+00  0.000000e+00   \n",
      "25%    2.121100e+04  1.000000e+00  2.046658e+05  1.000000e+00  0.000000e+00   \n",
      "50%    2.121700e+04  1.000000e+00  4.666895e+05  3.000000e+00  0.000000e+00   \n",
      "75%    2.122400e+04  1.000000e+00  7.286432e+05  5.000000e+00  1.000000e+00   \n",
      "max    2.128700e+04  1.000000e+00  9.906020e+05  6.000000e+00  1.000000e+00   \n",
      "\n",
      "        district_ec  description_ec  incidentLocation_ec   location_ec  \\\n",
      "count  1.046316e+06    1.046316e+06         1.046316e+06  1.046316e+06   \n",
      "mean   6.106052e+00    1.320492e+03         1.792847e+04  1.792862e+04   \n",
      "std    3.528210e+00    8.880784e+02         1.168381e+04  1.168345e+04   \n",
      "min    0.000000e+00    0.000000e+00         0.000000e+00  0.000000e+00   \n",
      "25%    4.000000e+00    4.580000e+02         8.283000e+03  8.283000e+03   \n",
      "50%    6.000000e+00    1.050000e+03         1.675900e+04  1.675900e+04   \n",
      "75%    8.000000e+00    2.021000e+03         2.565300e+04  2.565300e+04   \n",
      "max    1.200000e+01    3.318000e+03         4.570900e+04  4.570800e+04   \n",
      "\n",
      "       Neighborhood_ec  PoliceDistrict_ec  SheriffDistricts_ec  \\\n",
      "count     1.046316e+06       1.046316e+06         1.046316e+06   \n",
      "mean      1.239199e+02       3.824837e+00         5.071279e+00   \n",
      "std       7.979454e+01       2.505401e+00         2.779933e+00   \n",
      "min       0.000000e+00       0.000000e+00         0.000000e+00   \n",
      "25%       5.500000e+01       2.000000e+00         2.000000e+00   \n",
      "50%       1.110000e+02       4.000000e+00         6.000000e+00   \n",
      "75%       1.940000e+02       6.000000e+00         7.000000e+00   \n",
      "max       2.770000e+02       8.000000e+00         9.000000e+00   \n",
      "\n",
      "       Community_Statistical_Areas_ec  \n",
      "count                    1.046316e+06  \n",
      "mean                     2.755973e+01  \n",
      "std                      1.636874e+01  \n",
      "min                      0.000000e+00  \n",
      "25%                      1.300000e+01  \n",
      "50%                      2.800000e+01  \n",
      "75%                      4.200000e+01  \n",
      "max                      5.500000e+01  \n",
      "<class 'pandas.core.frame.DataFrame'>\n",
      "Index: 1046316 entries, 0 to 1048574\n",
      "Data columns (total 19 columns):\n",
      " #   Column                          Non-Null Count    Dtype  \n",
      "---  ------                          --------------    -----  \n",
      " 0   recordId                        1046316 non-null  int64  \n",
      " 1   callKey                         1046316 non-null  object \n",
      " 2   timestamp                       1046316 non-null  float64\n",
      " 3   callNumber                      1046316 non-null  object \n",
      " 4   PolicePost                      1046316 non-null  float64\n",
      " 5   CouncilDistrict                 1046316 non-null  float64\n",
      " 6   ZIPCode                         1046316 non-null  float64\n",
      " 7   NeedsSync                       1046316 non-null  int64  \n",
      " 8   ESRI_OID                        1046316 non-null  int64  \n",
      " 9   day                             1046316 non-null  int32  \n",
      " 10  priority_ec                     1046316 non-null  int64  \n",
      " 11  district_ec                     1046316 non-null  int32  \n",
      " 12  description_ec                  1046316 non-null  int32  \n",
      " 13  incidentLocation_ec             1046316 non-null  int32  \n",
      " 14  location_ec                     1046316 non-null  int32  \n",
      " 15  Neighborhood_ec                 1046316 non-null  int32  \n",
      " 16  PoliceDistrict_ec               1046316 non-null  int32  \n",
      " 17  SheriffDistricts_ec             1046316 non-null  int32  \n",
      " 18  Community_Statistical_Areas_ec  1046316 non-null  int32  \n",
      "dtypes: float64(4), int32(9), int64(4), object(2)\n",
      "memory usage: 123.7+ MB\n",
      "None\n"
     ]
    },
    {
     "data": {
      "text/html": [
       "<div>\n",
       "<style scoped>\n",
       "    .dataframe tbody tr th:only-of-type {\n",
       "        vertical-align: middle;\n",
       "    }\n",
       "\n",
       "    .dataframe tbody tr th {\n",
       "        vertical-align: top;\n",
       "    }\n",
       "\n",
       "    .dataframe thead th {\n",
       "        text-align: right;\n",
       "    }\n",
       "</style>\n",
       "<table border=\"1\" class=\"dataframe\">\n",
       "  <thead>\n",
       "    <tr style=\"text-align: right;\">\n",
       "      <th></th>\n",
       "      <th>recordId</th>\n",
       "      <th>callKey</th>\n",
       "      <th>timestamp</th>\n",
       "      <th>callNumber</th>\n",
       "      <th>PolicePost</th>\n",
       "      <th>CouncilDistrict</th>\n",
       "      <th>ZIPCode</th>\n",
       "      <th>NeedsSync</th>\n",
       "      <th>ESRI_OID</th>\n",
       "      <th>day</th>\n",
       "      <th>priority_ec</th>\n",
       "      <th>district_ec</th>\n",
       "      <th>description_ec</th>\n",
       "      <th>incidentLocation_ec</th>\n",
       "      <th>location_ec</th>\n",
       "      <th>Neighborhood_ec</th>\n",
       "      <th>PoliceDistrict_ec</th>\n",
       "      <th>SheriffDistricts_ec</th>\n",
       "      <th>Community_Statistical_Areas_ec</th>\n",
       "    </tr>\n",
       "  </thead>\n",
       "  <tbody>\n",
       "    <tr>\n",
       "      <th>0</th>\n",
       "      <td>1</td>\n",
       "      <td>10CC9DA95FF34377</td>\n",
       "      <td>1.609756e+09</td>\n",
       "      <td>P210041843</td>\n",
       "      <td>426.0</td>\n",
       "      <td>2.0</td>\n",
       "      <td>21214.0</td>\n",
       "      <td>0</td>\n",
       "      <td>79</td>\n",
       "      <td>0</td>\n",
       "      <td>0</td>\n",
       "      <td>11</td>\n",
       "      <td>1520</td>\n",
       "      <td>15668</td>\n",
       "      <td>15668</td>\n",
       "      <td>254</td>\n",
       "      <td>2</td>\n",
       "      <td>4</td>\n",
       "      <td>30</td>\n",
       "    </tr>\n",
       "    <tr>\n",
       "      <th>1</th>\n",
       "      <td>2</td>\n",
       "      <td>10CC9DA95FF3518A</td>\n",
       "      <td>1.609760e+09</td>\n",
       "      <td>P210042073</td>\n",
       "      <td>742.0</td>\n",
       "      <td>7.0</td>\n",
       "      <td>21217.0</td>\n",
       "      <td>0</td>\n",
       "      <td>80</td>\n",
       "      <td>0</td>\n",
       "      <td>1</td>\n",
       "      <td>12</td>\n",
       "      <td>2021</td>\n",
       "      <td>6417</td>\n",
       "      <td>6417</td>\n",
       "      <td>229</td>\n",
       "      <td>8</td>\n",
       "      <td>9</td>\n",
       "      <td>46</td>\n",
       "    </tr>\n",
       "    <tr>\n",
       "      <th>2</th>\n",
       "      <td>3</td>\n",
       "      <td>10CC9DA95FF35312</td>\n",
       "      <td>1.609760e+09</td>\n",
       "      <td>P210042088</td>\n",
       "      <td>131.0</td>\n",
       "      <td>11.0</td>\n",
       "      <td>21217.0</td>\n",
       "      <td>0</td>\n",
       "      <td>81</td>\n",
       "      <td>0</td>\n",
       "      <td>0</td>\n",
       "      <td>0</td>\n",
       "      <td>2178</td>\n",
       "      <td>8608</td>\n",
       "      <td>8608</td>\n",
       "      <td>64</td>\n",
       "      <td>0</td>\n",
       "      <td>8</td>\n",
       "      <td>53</td>\n",
       "    </tr>\n",
       "    <tr>\n",
       "      <th>3</th>\n",
       "      <td>4</td>\n",
       "      <td>10CC9DA95FF3543D</td>\n",
       "      <td>1.609761e+09</td>\n",
       "      <td>P210042103</td>\n",
       "      <td>934.0</td>\n",
       "      <td>9.0</td>\n",
       "      <td>21223.0</td>\n",
       "      <td>0</td>\n",
       "      <td>82</td>\n",
       "      <td>0</td>\n",
       "      <td>1</td>\n",
       "      <td>7</td>\n",
       "      <td>2021</td>\n",
       "      <td>25059</td>\n",
       "      <td>25059</td>\n",
       "      <td>37</td>\n",
       "      <td>6</td>\n",
       "      <td>8</td>\n",
       "      <td>50</td>\n",
       "    </tr>\n",
       "    <tr>\n",
       "      <th>4</th>\n",
       "      <td>5</td>\n",
       "      <td>10CC9DA95FF4659A</td>\n",
       "      <td>1.609831e+09</td>\n",
       "      <td>P210051288</td>\n",
       "      <td>432.0</td>\n",
       "      <td>13.0</td>\n",
       "      <td>21213.0</td>\n",
       "      <td>0</td>\n",
       "      <td>83</td>\n",
       "      <td>1</td>\n",
       "      <td>0</td>\n",
       "      <td>11</td>\n",
       "      <td>938</td>\n",
       "      <td>16293</td>\n",
       "      <td>16293</td>\n",
       "      <td>11</td>\n",
       "      <td>2</td>\n",
       "      <td>6</td>\n",
       "      <td>2</td>\n",
       "    </tr>\n",
       "  </tbody>\n",
       "</table>\n",
       "</div>"
      ],
      "text/plain": [
       "   recordId           callKey     timestamp  callNumber  PolicePost  \\\n",
       "0         1  10CC9DA95FF34377  1.609756e+09  P210041843       426.0   \n",
       "1         2  10CC9DA95FF3518A  1.609760e+09  P210042073       742.0   \n",
       "2         3  10CC9DA95FF35312  1.609760e+09  P210042088       131.0   \n",
       "3         4  10CC9DA95FF3543D  1.609761e+09  P210042103       934.0   \n",
       "4         5  10CC9DA95FF4659A  1.609831e+09  P210051288       432.0   \n",
       "\n",
       "   CouncilDistrict  ZIPCode  NeedsSync  ESRI_OID  day  priority_ec  \\\n",
       "0              2.0  21214.0          0        79    0            0   \n",
       "1              7.0  21217.0          0        80    0            1   \n",
       "2             11.0  21217.0          0        81    0            0   \n",
       "3              9.0  21223.0          0        82    0            1   \n",
       "4             13.0  21213.0          0        83    1            0   \n",
       "\n",
       "   district_ec  description_ec  incidentLocation_ec  location_ec  \\\n",
       "0           11            1520                15668        15668   \n",
       "1           12            2021                 6417         6417   \n",
       "2            0            2178                 8608         8608   \n",
       "3            7            2021                25059        25059   \n",
       "4           11             938                16293        16293   \n",
       "\n",
       "   Neighborhood_ec  PoliceDistrict_ec  SheriffDistricts_ec  \\\n",
       "0              254                  2                    4   \n",
       "1              229                  8                    9   \n",
       "2               64                  0                    8   \n",
       "3               37                  6                    8   \n",
       "4               11                  2                    6   \n",
       "\n",
       "   Community_Statistical_Areas_ec  \n",
       "0                              30  \n",
       "1                              46  \n",
       "2                              53  \n",
       "3                              50  \n",
       "4                               2  "
      ]
     },
     "execution_count": 12,
     "metadata": {},
     "output_type": "execute_result"
    }
   ],
   "source": [
    "print(df_encoded.shape)\n",
    "print(df_encoded.describe())\n",
    "print(df_encoded.info())\n",
    "df_encoded.head()"
   ]
  },
  {
   "cell_type": "code",
   "execution_count": 13,
   "id": "3f31f0b1",
   "metadata": {},
   "outputs": [],
   "source": [
    "#Converting Newly encoded categorical variables to object type\n",
    "df_encoded[\"district_ec\"] = df_encoded[\"district_ec\"].astype(object)\n",
    "df_encoded[\"description_ec\"] = df_encoded[\"description_ec\"].astype(object)\n",
    "df_encoded[\"incidentLocation_ec\"] = df_encoded[\"incidentLocation_ec\"].astype(object)\n",
    "df_encoded[\"location_ec\"] = df_encoded[\"location_ec\"].astype(object)\n",
    "df_encoded[\"Neighborhood_ec\"] = df_encoded[\"Neighborhood_ec\"].astype(object)\n",
    "df_encoded[\"PoliceDistrict_ec\"] = df_encoded[\"PoliceDistrict_ec\"].astype(object)\n",
    "df_encoded[\"SheriffDistricts_ec\"] = df_encoded[\"SheriffDistricts_ec\"].astype(object)\n",
    "df_encoded[\"Community_Statistical_Areas_ec\"] = df_encoded[\"Community_Statistical_Areas_ec\"].astype(object)"
   ]
  },
  {
   "cell_type": "code",
   "execution_count": 14,
   "id": "4e009baf",
   "metadata": {},
   "outputs": [
    {
     "name": "stdout",
     "output_type": "stream",
     "text": [
      "<class 'pandas.core.frame.DataFrame'>\n",
      "Index: 1046316 entries, 0 to 1048574\n",
      "Data columns (total 19 columns):\n",
      " #   Column                          Non-Null Count    Dtype  \n",
      "---  ------                          --------------    -----  \n",
      " 0   recordId                        1046316 non-null  int64  \n",
      " 1   callKey                         1046316 non-null  object \n",
      " 2   timestamp                       1046316 non-null  float64\n",
      " 3   callNumber                      1046316 non-null  object \n",
      " 4   PolicePost                      1046316 non-null  float64\n",
      " 5   CouncilDistrict                 1046316 non-null  float64\n",
      " 6   ZIPCode                         1046316 non-null  float64\n",
      " 7   NeedsSync                       1046316 non-null  int64  \n",
      " 8   ESRI_OID                        1046316 non-null  int64  \n",
      " 9   day                             1046316 non-null  int32  \n",
      " 10  priority_ec                     1046316 non-null  int64  \n",
      " 11  district_ec                     1046316 non-null  object \n",
      " 12  description_ec                  1046316 non-null  object \n",
      " 13  incidentLocation_ec             1046316 non-null  object \n",
      " 14  location_ec                     1046316 non-null  object \n",
      " 15  Neighborhood_ec                 1046316 non-null  object \n",
      " 16  PoliceDistrict_ec               1046316 non-null  object \n",
      " 17  SheriffDistricts_ec             1046316 non-null  object \n",
      " 18  Community_Statistical_Areas_ec  1046316 non-null  object \n",
      "dtypes: float64(4), int32(1), int64(4), object(10)\n",
      "memory usage: 155.7+ MB\n",
      "None\n"
     ]
    }
   ],
   "source": [
    "print(df_encoded.info())"
   ]
  },
  {
   "cell_type": "code",
   "execution_count": 15,
   "id": "0e842ad5",
   "metadata": {},
   "outputs": [],
   "source": [
    "#for models other than logistic regression i.e for knn and dt\n",
    "df_sample = df_encoded.sample(n=50000)\n"
   ]
  },
  {
   "cell_type": "code",
   "execution_count": 16,
   "id": "933e9298",
   "metadata": {},
   "outputs": [],
   "source": [
    "#for KNN, we use the sample due to computational limitation\n",
    "ytarget = df_sample['priority_ec']\n",
    "xdata = df_sample[['PolicePost', 'CouncilDistrict', 'ZIPCode', 'day', 'district_ec','description_ec',\"incidentLocation_ec\",\"location_ec\",\"Neighborhood_ec\",\"PoliceDistrict_ec\",\"SheriffDistricts_ec\",\"Community_Statistical_Areas_ec\"]]\n",
    "\n",
    "from sklearn.model_selection import train_test_split\n",
    "\n",
    "X_train, X_test, y_train, y_test = train_test_split(xdata, ytarget, test_size = 0.25,\n",
    "                                                    random_state=4)"
   ]
  },
  {
   "cell_type": "code",
   "execution_count": 17,
   "id": "54bade24",
   "metadata": {},
   "outputs": [
    {
     "name": "stdout",
     "output_type": "stream",
     "text": [
      "1. {'n_neighbors': 5}\n",
      "2. 0.76048\n",
      "3. 0.75656\n"
     ]
    }
   ],
   "source": [
    "#Running KNN Model\n",
    "from sklearn.model_selection import GridSearchCV\n",
    "from sklearn.neighbors import KNeighborsClassifier\n",
    "from sklearn.metrics import accuracy_score\n",
    "# define function\n",
    "#knn = KNeighborsClassifier( p = 1) # if manhattan distance required\n",
    "\n",
    "knn = KNeighborsClassifier() \n",
    "\n",
    "# define a list of parameters\n",
    "param_knn = {'n_neighbors': range(5, 50, 5) }  # exactly the same as the input variable name. \n",
    "\n",
    "# range(i,j): consecutive integers i to j exclude j \n",
    "# range(i, j, s): integers from i to j exclude j, increase by s. default s=1\n",
    "\n",
    "#apply grid search\n",
    "grid_knn = GridSearchCV(knn, param_knn, cv = 5)\n",
    "grid_knn.fit(X_train, y_train)\n",
    "\n",
    "# the best hyperparameter chosen:\n",
    "print(\"1.\", grid_knn.best_params_)\n",
    "\n",
    "#test accuracy\n",
    "print(\"2.\", grid_knn.best_estimator_.score(X_test, y_test))\n",
    "\n",
    "# When k=(best case), the validation score of through CV is:\n",
    "print(\"3.\", grid_knn.best_score_)"
   ]
  },
  {
   "cell_type": "code",
   "execution_count": 18,
   "id": "50a83e6b",
   "metadata": {},
   "outputs": [
    {
     "name": "stdout",
     "output_type": "stream",
     "text": [
      "Confusion Matrix:\n",
      "[[4945 1589]\n",
      " [1405 4561]]\n"
     ]
    }
   ],
   "source": [
    "#Confusion Matrix for KNN\n",
    "# 1. Train the KNN classifier using the best parameters\n",
    "best_knn = grid_knn.best_estimator_\n",
    "\n",
    "# 2. Make predictions on the test data\n",
    "y_pred_knn = best_knn.predict(X_test)\n",
    "\n",
    "# 3. Compute the confusion matrix\n",
    "cm_knn = confusion_matrix(y_test, y_pred_knn)\n",
    "\n",
    "# Print the confusion matrix\n",
    "print(\"Confusion Matrix:\")\n",
    "print(cm_knn)\n"
   ]
  },
  {
   "cell_type": "code",
   "execution_count": 19,
   "id": "396a0d12",
   "metadata": {},
   "outputs": [
    {
     "name": "stdout",
     "output_type": "stream",
     "text": [
      "TP is: 4561\n",
      "TN is: 4945\n",
      "FP is: 1589\n",
      "FN is: 1405\n"
     ]
    }
   ],
   "source": [
    "#TP, TN, FP, FN for KNN\n",
    "print(\"TP is:\", cm_knn[1,1])\n",
    "print(\"TN is:\", cm_knn[0,0])\n",
    "print(\"FP is:\", cm_knn[0,1])\n",
    "print(\"FN is:\", cm_knn[1,0])"
   ]
  },
  {
   "cell_type": "code",
   "execution_count": 20,
   "id": "1264aeb2",
   "metadata": {},
   "outputs": [
    {
     "name": "stdout",
     "output_type": "stream",
     "text": [
      "Accuracy: 0.76048\n",
      "Precision: 0.7416260162601626\n",
      "Recall: 0.7644988266845457\n",
      "F1 score: 0.7528887421591285\n"
     ]
    }
   ],
   "source": [
    "#Accuracy, Precision, Recall and F1 Score for KNN\n",
    "from sklearn.metrics import precision_score, accuracy_score, recall_score, f1_score\n",
    "accuracy = accuracy_score(y_test,y_pred_knn)\n",
    "precision = precision_score(y_test,y_pred_knn)\n",
    "recall = recall_score(y_test,y_pred_knn)\n",
    "f1 = f1_score(y_test,y_pred_knn)\n",
    "\n",
    "print(\"Accuracy:\", accuracy)\n",
    "print(\"Precision:\", precision)\n",
    "print(\"Recall:\", recall)\n",
    "print(\"F1 score:\", f1)"
   ]
  },
  {
   "cell_type": "code",
   "execution_count": 21,
   "id": "1f31925a",
   "metadata": {},
   "outputs": [
    {
     "name": "stdout",
     "output_type": "stream",
     "text": [
      "AUC for KNN: 0.8276124777473328\n"
     ]
    },
    {
     "data": {
      "image/png": "[encoded data removed]",
      "text/plain": [
       "<Figure size 800x600 with 1 Axes>"
      ]
     },
     "metadata": {},
     "output_type": "display_data"
    }
   ],
   "source": [
    "#Plotting ROC Curve for KNN\n",
    "pred_prob_knn = best_knn.predict_proba(X_test)[:,1]\n",
    "print(\"AUC for KNN:\", roc_auc_score(y_test, pred_prob_knn))\n",
    "fpr, tpr, thresholds = roc_curve(y_test, pred_prob_knn)\n",
    "plt.figure(figsize=(8, 6))\n",
    "plt.plot(fpr, tpr, color='blue', lw=2, label='ROC curve')\n",
    "plt.plot([0, 1], [0, 1], color='red', lw=2, linestyle='--')\n",
    "plt.xlim([0.0, 1.0])\n",
    "plt.ylim([0.0, 1.05])\n",
    "plt.xlabel('False Positive Rate')\n",
    "plt.ylabel('True Positive Rate')\n",
    "plt.title('Receiver Operating Characteristic (ROC) Curve for KNN')\n",
    "plt.legend(loc='lower right')\n",
    "plt.show()"
   ]
  },
  {
   "cell_type": "code",
   "execution_count": 22,
   "id": "61d5990a",
   "metadata": {},
   "outputs": [
    {
     "data": {
      "image/png": "[encoded data removed]",
      "text/plain": [
       "<Figure size 1000x600 with 1 Axes>"
      ]
     },
     "metadata": {},
     "output_type": "display_data"
    }
   ],
   "source": [
    "import matplotlib.pyplot as plt\n",
    "\n",
    "# Extract the cross-validation results\n",
    "cv_results = grid_knn.cv_results_\n",
    "\n",
    "# Plot the mean validation scores against different values of n_neighbors\n",
    "plt.figure(figsize=(10, 6))\n",
    "plt.plot(param_knn['n_neighbors'], cv_results['mean_test_score'], marker='o', linestyle='-')\n",
    "plt.title('Mean Validation Scores vs. Number of Neighbors')\n",
    "plt.xlabel('Number of Neighbors (k)')\n",
    "plt.ylabel('Mean Validation Score')\n",
    "plt.xticks(param_knn['n_neighbors'])\n",
    "plt.grid(True)\n",
    "plt.show()"
   ]
  },
  {
   "cell_type": "code",
   "execution_count": 23,
   "id": "ffdd6419",
   "metadata": {},
   "outputs": [],
   "source": [
    "#for Logistic regression, we are able to use the full dataset\n",
    "ytarget = df_encoded['priority_ec']\n",
    "xdata = df_encoded[['PolicePost', 'CouncilDistrict', 'ZIPCode', 'day', 'district_ec','description_ec',\"incidentLocation_ec\",\"location_ec\",\"Neighborhood_ec\",\"PoliceDistrict_ec\",\"SheriffDistricts_ec\",\"Community_Statistical_Areas_ec\"]]\n",
    "\n",
    "from sklearn.model_selection import train_test_split\n",
    "\n",
    "X_train, X_test, y_train, y_test = train_test_split(xdata, ytarget, test_size = 0.25,\n",
    "                                                    random_state=4)"
   ]
  },
  {
   "cell_type": "code",
   "execution_count": 24,
   "id": "046945e5",
   "metadata": {},
   "outputs": [],
   "source": [
    "# Feature scaling\n",
    "scaler = StandardScaler()\n",
    "X_train_scaled = scaler.fit_transform(X_train)\n",
    "X_test_scaled = scaler.transform(X_test)"
   ]
  },
  {
   "cell_type": "code",
   "execution_count": 25,
   "id": "c0304e6e",
   "metadata": {},
   "outputs": [
    {
     "name": "stdout",
     "output_type": "stream",
     "text": [
      "[[-3.04538053e-02 -5.10501900e-02 -3.28249134e-02  2.53887962e-02\n",
      "  -7.14690383e-01  4.35227591e-03 -3.82167108e-02 -3.83090865e-02\n",
      "   6.08309007e-04  6.80851080e-01 -2.58359802e-02 -7.34229335e-03]]\n",
      "[-0.10749182]\n"
     ]
    }
   ],
   "source": [
    "# Run the Logistic Regression Model: \n",
    "logreg = LogisticRegression()\n",
    "logreg.fit(X_train_scaled, y_train)\n",
    "print(logreg.coef_)\n",
    "print(logreg.intercept_)\n",
    "y_test_lr=logreg.predict(X_test_scaled)\n",
    "\n"
   ]
  },
  {
   "cell_type": "code",
   "execution_count": 26,
   "id": "6cafc977",
   "metadata": {},
   "outputs": [
    {
     "name": "stdout",
     "output_type": "stream",
     "text": [
      "Test Accuracy is: 0.529755829022972\n",
      "0.5250880231211221\n"
     ]
    }
   ],
   "source": [
    "print(\"Test Accuracy is:\", logreg.score(X_test_scaled, y_test))\n",
    "\n",
    "# Get it manually\n",
    "y_test_pred = logreg.predict(X_test)\n",
    "y_test == y_test_pred # true or false\n",
    "\n",
    "# acc: # true/# total y test sample\n",
    "acc_manual = np.sum(y_test == y_test_pred) / y_test.shape[0]\n",
    "print(acc_manual)"
   ]
  },
  {
   "cell_type": "code",
   "execution_count": 27,
   "id": "be781d56",
   "metadata": {
    "scrolled": true
   },
   "outputs": [
    {
     "data": {
      "text/plain": [
       "array([[82237, 55115],\n",
       "       [67891, 56336]], dtype=int64)"
      ]
     },
     "execution_count": 27,
     "metadata": {},
     "output_type": "execute_result"
    }
   ],
   "source": [
    "#Confusion Matric for Logistic Regression\n",
    "from sklearn.metrics import confusion_matrix\n",
    "my_matrix = confusion_matrix(y_test, y_test_lr)\n",
    "my_matrix"
   ]
  },
  {
   "cell_type": "code",
   "execution_count": 50,
   "id": "60c0ad57",
   "metadata": {},
   "outputs": [
    {
     "name": "stdout",
     "output_type": "stream",
     "text": [
      "TP is: 56336\n",
      "TN is: 82237\n",
      "FP is: 55115\n",
      "FN is: 67891\n"
     ]
    }
   ],
   "source": [
    "#TP, TN, FP, FN for Logistic Regression\n",
    "print(\"TP is:\", my_matrix[1,1])\n",
    "print(\"TN is:\", my_matrix[0,0])\n",
    "print(\"FP is:\", my_matrix[0,1])\n",
    "print(\"FN is:\", my_matrix[1,0])"
   ]
  },
  {
   "cell_type": "code",
   "execution_count": 28,
   "id": "eb512edd",
   "metadata": {},
   "outputs": [
    {
     "name": "stdout",
     "output_type": "stream",
     "text": [
      "Accuracy: 0.529755829022972\n",
      "Precision: 0.5054777435823815\n",
      "Recall: 0.4534923969829425\n",
      "F1 score: 0.4780760189750422\n"
     ]
    }
   ],
   "source": [
    "#Accuracy, Precision, Recall and F1 Score for LR\n",
    "from sklearn.metrics import precision_score, accuracy_score, recall_score, f1_score\n",
    "accuracy = accuracy_score(y_test,y_test_lr)\n",
    "precision = precision_score(y_test,y_test_lr)\n",
    "recall = recall_score(y_test,y_test_lr)\n",
    "f1 = f1_score(y_test,y_test_lr)\n",
    "\n",
    "print(\"Accuracy:\", accuracy)\n",
    "print(\"Precision:\", precision)\n",
    "print(\"Recall:\", recall)\n",
    "print(\"F1 score:\", f1)"
   ]
  },
  {
   "cell_type": "code",
   "execution_count": 29,
   "id": "92824717",
   "metadata": {},
   "outputs": [
    {
     "name": "stdout",
     "output_type": "stream",
     "text": [
      "Feature: district_ec, Coefficient: -0.7146903830307598\n",
      "Feature: PoliceDistrict_ec, Coefficient: 0.6808510803790543\n",
      "Feature: CouncilDistrict, Coefficient: -0.05105019001084004\n",
      "Feature: location_ec, Coefficient: -0.03830908646052868\n",
      "Feature: incidentLocation_ec, Coefficient: -0.038216710778333\n",
      "Feature: ZIPCode, Coefficient: -0.032824913355115434\n",
      "Feature: PolicePost, Coefficient: -0.030453805256335092\n",
      "Feature: SheriffDistricts_ec, Coefficient: -0.02583598024636783\n",
      "Feature: day, Coefficient: 0.025388796218831555\n",
      "Feature: Community_Statistical_Areas_ec, Coefficient: -0.007342293349588153\n",
      "Feature: description_ec, Coefficient: 0.004352275906714283\n",
      "Feature: Neighborhood_ec, Coefficient: 0.000608309006731491\n"
     ]
    }
   ],
   "source": [
    "#Coefficients Info for LR\n",
    "coefficients = logreg.coef_[0]\n",
    "feature_names=xdata.columns\n",
    "# Create a dictionary mapping feature names to coefficients\n",
    "feature_coefficient_map = dict(zip(feature_names, coefficients))\n",
    "\n",
    "# Sort the features by their coefficient values (absolute values for magnitude)\n",
    "sorted_features = sorted(feature_coefficient_map.items(), key=lambda x: abs(x[1]), reverse=True)\n",
    "\n",
    "# Print the feature names along with their coefficients\n",
    "for feature, coefficient in sorted_features:\n",
    "    print(f\"Feature: {feature}, Coefficient: {coefficient}\")"
   ]
  },
  {
   "cell_type": "code",
   "execution_count": 30,
   "id": "b62e68f1",
   "metadata": {},
   "outputs": [
    {
     "name": "stdout",
     "output_type": "stream",
     "text": [
      "AUC for Logistic Regression: 0.557456400426249\n"
     ]
    },
    {
     "data": {
      "image/png": "[encoded data removed]",
      "text/plain": [
       "<Figure size 800x600 with 1 Axes>"
      ]
     },
     "metadata": {},
     "output_type": "display_data"
    }
   ],
   "source": [
    "#Plotting ROC Curve for LR\n",
    "pred_prob_lr = logreg.predict_proba(X_test_scaled)[:,1]\n",
    "print(\"AUC for Logistic Regression:\", roc_auc_score(y_test, pred_prob_lr))\n",
    "fpr, tpr, thresholds = roc_curve(y_test, pred_prob_lr)\n",
    "plt.figure(figsize=(8, 6))\n",
    "plt.plot(fpr, tpr, color='blue', lw=2, label='ROC curve')\n",
    "plt.plot([0, 1], [0, 1], color='red', lw=2, linestyle='--')\n",
    "plt.xlim([0.0, 1.0])\n",
    "plt.ylim([0.0, 1.05])\n",
    "plt.xlabel('False Positive Rate')\n",
    "plt.ylabel('True Positive Rate')\n",
    "plt.title('Receiver Operating Characteristic (ROC) Curve for LR')\n",
    "plt.legend(loc='lower right')\n",
    "plt.show()"
   ]
  },
  {
   "cell_type": "code",
   "execution_count": 31,
   "id": "2e3449d1",
   "metadata": {},
   "outputs": [],
   "source": [
    "#for DT, we use the sample due to computational limitation\n",
    "ytarget = df_sample['priority_ec']\n",
    "xdata = df_sample[['timestamp', 'PolicePost', 'CouncilDistrict', 'ZIPCode', 'day', 'district_ec','description_ec',\"incidentLocation_ec\",\"location_ec\",\"Neighborhood_ec\",\"PoliceDistrict_ec\",\"SheriffDistricts_ec\",\"Community_Statistical_Areas_ec\"]]\n",
    "\n",
    "from sklearn.model_selection import train_test_split\n",
    "\n",
    "X_train, X_test, y_train, y_test = train_test_split(xdata, ytarget, test_size = 0.25,\n",
    "                                                    random_state=4)"
   ]
  },
  {
   "cell_type": "code",
   "execution_count": 32,
   "id": "b4c3b431",
   "metadata": {},
   "outputs": [
    {
     "name": "stdout",
     "output_type": "stream",
     "text": [
      "1. {'max_depth': 5, 'max_leaf_nodes': 9, 'min_samples_split': 2}\n",
      "2. 0.85032\n",
      "3. 0.8532533333333333\n"
     ]
    }
   ],
   "source": [
    "#Running Decision Tree Classifier\n",
    "# GridSearch + CV\n",
    "opt_tree = DecisionTreeClassifier(random_state = 0) \n",
    "\n",
    "dt_params = {'max_depth':  range(1,21)         ,\n",
    "              'min_samples_split':   range(2,11), \n",
    "             'max_leaf_nodes':    range(2,10)  }\n",
    "\n",
    "grid_tree = GridSearchCV(opt_tree, dt_params)\n",
    "grid_tree.fit(X_train, y_train)\n",
    "# Report the best hyperparameters chosen\n",
    "print(\"1.\", grid_tree.best_params_)\n",
    "print(\"2.\", grid_tree.best_estimator_.score(X_test, y_test))\n",
    "print(\"3.\", grid_tree.best_score_)\n"
   ]
  },
  {
   "cell_type": "code",
   "execution_count": 33,
   "id": "1cf9006e",
   "metadata": {},
   "outputs": [],
   "source": [
    "y_pred_dt = grid_tree.predict(X_test)"
   ]
  },
  {
   "cell_type": "code",
   "execution_count": 37,
   "id": "5a1ac998",
   "metadata": {},
   "outputs": [
    {
     "name": "stdout",
     "output_type": "stream",
     "text": [
      "TP is: 5467\n",
      "TN is: 5162\n",
      "FP is: 1372\n",
      "FN is: 499\n"
     ]
    },
    {
     "data": {
      "text/plain": [
       "array([[5162, 1372],\n",
       "       [ 499, 5467]], dtype=int64)"
      ]
     },
     "execution_count": 37,
     "metadata": {},
     "output_type": "execute_result"
    }
   ],
   "source": [
    "#Confusion Matrix for Decision tree\n",
    "my_matrix_dt = confusion_matrix(y_test, y_pred_dt)\n",
    "print(\"TP is:\", my_matrix_dt[1,1])\n",
    "print(\"TN is:\", my_matrix_dt[0,0])\n",
    "print(\"FP is:\", my_matrix_dt[0,1])\n",
    "print(\"FN is:\", my_matrix_dt[1,0])\n",
    "my_matrix_dt"
   ]
  },
  {
   "cell_type": "code",
   "execution_count": 35,
   "id": "47caa2c8",
   "metadata": {},
   "outputs": [
    {
     "name": "stdout",
     "output_type": "stream",
     "text": [
      "Accuracy: 0.85032\n",
      "Precision: 0.7993858751279427\n",
      "Recall: 0.9163593697619846\n",
      "F1 score: 0.8538852010933229\n"
     ]
    }
   ],
   "source": [
    "#Accuracy, Precision, Recall and F1 Score for DT\n",
    "accuracy = accuracy_score(y_test,y_pred_dt)\n",
    "precision = precision_score(y_test,y_pred_dt)\n",
    "recall = recall_score(y_test,y_pred_dt)\n",
    "f1 = f1_score(y_test,y_pred_dt)\n",
    "\n",
    "print(\"Accuracy:\", accuracy)\n",
    "print(\"Precision:\", precision)\n",
    "print(\"Recall:\", recall)\n",
    "print(\"F1 score:\", f1)"
   ]
  },
  {
   "cell_type": "code",
   "execution_count": 36,
   "id": "9d7e0879",
   "metadata": {},
   "outputs": [
    {
     "name": "stdout",
     "output_type": "stream",
     "text": [
      "AUC for Decision Tree: 0.9146295388181226\n"
     ]
    },
    {
     "data": {
      "image/png": "[encoded data removed]",
      "text/plain": [
       "<Figure size 800x600 with 1 Axes>"
      ]
     },
     "metadata": {},
     "output_type": "display_data"
    }
   ],
   "source": [
    "#Plotting ROC Curve for Decision Tree\n",
    "pred_prob = grid_tree.predict_proba(X_test)[:,1]\n",
    "print(\"AUC for Decision Tree:\", roc_auc_score(y_test, pred_prob))\n",
    "fpr, tpr, thresholds = roc_curve(y_test, pred_prob)\n",
    "plt.figure(figsize=(8, 6))\n",
    "plt.plot(fpr, tpr, color='blue', lw=2, label='ROC curve')\n",
    "plt.plot([0, 1], [0, 1], color='red', lw=2, linestyle='--')\n",
    "plt.xlim([0.0, 1.0])\n",
    "plt.ylim([0.0, 1.05])\n",
    "plt.xlabel('False Positive Rate')\n",
    "plt.ylabel('True Positive Rate')\n",
    "plt.title('Receiver Operating Characteristic (ROC) Curve for DT')\n",
    "plt.legend(loc='lower right')\n",
    "plt.show()"
   ]
  },
  {
   "cell_type": "code",
   "execution_count": 38,
   "id": "76fb2876",
   "metadata": {},
   "outputs": [
    {
     "name": "stdout",
     "output_type": "stream",
     "text": [
      "|--- feature_6 <= 133.50\n",
      "|   |--- class: 0\n",
      "|--- feature_6 >  133.50\n",
      "|   |--- feature_6 <= 1318.00\n",
      "|   |   |--- feature_6 <= 1036.50\n",
      "|   |   |   |--- feature_6 <= 377.50\n",
      "|   |   |   |   |--- class: 1\n",
      "|   |   |   |--- feature_6 >  377.50\n",
      "|   |   |   |   |--- feature_6 <= 411.00\n",
      "|   |   |   |   |   |--- class: 0\n",
      "|   |   |   |   |--- feature_6 >  411.00\n",
      "|   |   |   |   |   |--- class: 1\n",
      "|   |   |--- feature_6 >  1036.50\n",
      "|   |   |   |--- class: 1\n",
      "|   |--- feature_6 >  1318.00\n",
      "|   |   |--- feature_6 <= 2005.00\n",
      "|   |   |   |--- class: 0\n",
      "|   |   |--- feature_6 >  2005.00\n",
      "|   |   |   |--- feature_6 <= 2109.00\n",
      "|   |   |   |   |--- class: 1\n",
      "|   |   |   |--- feature_6 >  2109.00\n",
      "|   |   |   |   |--- feature_6 <= 2745.00\n",
      "|   |   |   |   |   |--- class: 0\n",
      "|   |   |   |   |--- feature_6 >  2745.00\n",
      "|   |   |   |   |   |--- class: 1\n",
      "\n"
     ]
    }
   ],
   "source": [
    "print(tree.export_text(grid_tree.best_estimator_))"
   ]
  },
  {
   "cell_type": "code",
   "execution_count": 43,
   "id": "e86e47a9",
   "metadata": {},
   "outputs": [],
   "source": [
    "#for RFC, we are able to use the full dataset\n",
    "ytarget = df_encoded['priority_ec']\n",
    "xdata = df_encoded[['PolicePost', 'CouncilDistrict', 'ZIPCode', 'day', 'district_ec','description_ec',\"incidentLocation_ec\",\"location_ec\",\"Neighborhood_ec\",\"PoliceDistrict_ec\",\"SheriffDistricts_ec\",\"Community_Statistical_Areas_ec\"]]\n",
    "\n",
    "from sklearn.model_selection import train_test_split\n",
    "\n",
    "X_train, X_test, y_train, y_test = train_test_split(xdata, ytarget, test_size = 0.25,\n",
    "                                                    random_state=4)"
   ]
  },
  {
   "cell_type": "code",
   "execution_count": 44,
   "id": "92b66ac4",
   "metadata": {},
   "outputs": [],
   "source": [
    "from sklearn.ensemble import RandomForestClassifier\n",
    "\n",
    "rf = RandomForestClassifier(n_estimators = 500, max_samples = 20000, bootstrap=True, random_state = 42)\n",
    "# estimator dropped, estimator will be tree\n",
    "rf.fit(X_train, y_train)\n",
    "rf.score(X_test, y_test), rf.feature_importances_\n",
    "pred_prob = rf.predict_proba(X_test)[:,1]\n"
   ]
  },
  {
   "cell_type": "code",
   "execution_count": 45,
   "id": "f43bdb6a",
   "metadata": {},
   "outputs": [
    {
     "name": "stdout",
     "output_type": "stream",
     "text": [
      "TP is: 111867\n",
      "TN is: 127662\n",
      "FP is: 9690\n",
      "FN is: 12360\n",
      "Accuracy: 0.9157042423130297\n",
      "Precision: 0.9202843110639453\n",
      "Recall: 0.9005047211958753\n",
      "F1 score: 0.9102870813397129\n"
     ]
    }
   ],
   "source": [
    "y_pred_rf = rf.predict(X_test)\n",
    "my_matrix_rf = confusion_matrix(y_test, y_pred_rf)\n",
    "print(\"TP is:\", my_matrix_rf[1,1])\n",
    "print(\"TN is:\", my_matrix_rf[0,0])\n",
    "print(\"FP is:\", my_matrix_rf[0,1])\n",
    "print(\"FN is:\", my_matrix_rf[1,0])\n",
    "\n",
    "#Accuracy, Precision, Recall and F1 Score for RFC\n",
    "accuracy = accuracy_score(y_test,y_pred_rf)\n",
    "precision = precision_score(y_test,y_pred_rf)\n",
    "recall = recall_score(y_test,y_pred_rf)\n",
    "f1 = f1_score(y_test,y_pred_rf)\n",
    "\n",
    "print(\"Accuracy:\", accuracy)\n",
    "print(\"Precision:\", precision)\n",
    "print(\"Recall:\", recall)\n",
    "print(\"F1 score:\", f1)"
   ]
  },
  {
   "cell_type": "code",
   "execution_count": 47,
   "id": "59c56bfb",
   "metadata": {},
   "outputs": [
    {
     "data": {
      "text/plain": [
       "array([[127662,   9690],\n",
       "       [ 12360, 111867]], dtype=int64)"
      ]
     },
     "execution_count": 47,
     "metadata": {},
     "output_type": "execute_result"
    }
   ],
   "source": [
    "my_matrix_rfc = confusion_matrix(y_test, y_pred_rf)\n",
    "my_matrix_rfc"
   ]
  },
  {
   "cell_type": "code",
   "execution_count": 48,
   "id": "eb7472ad",
   "metadata": {},
   "outputs": [
    {
     "name": "stdout",
     "output_type": "stream",
     "text": [
      "AUC for RFC: 0.9663171239013584\n"
     ]
    },
    {
     "data": {
      "image/png": "[encoded data removed]",
      "text/plain": [
       "<Figure size 800x600 with 1 Axes>"
      ]
     },
     "metadata": {},
     "output_type": "display_data"
    }
   ],
   "source": [
    "#Plotting ROC Curve for RandomForest Classifier\n",
    "fpr, tpr, thresholds = roc_curve(y_test, pred_prob)\n",
    "print(\"AUC for RFC:\", roc_auc_score(y_test, pred_prob))\n",
    "plt.figure(figsize=(8, 6))\n",
    "plt.plot(fpr, tpr, color='blue', lw=2, label='ROC curve')\n",
    "plt.plot([0, 1], [0, 1], color='red', lw=2, linestyle='--')\n",
    "plt.xlim([0.0, 1.0])\n",
    "plt.ylim([0.0, 1.05])\n",
    "plt.xlabel('False Positive Rate')\n",
    "plt.ylabel('True Positive Rate')\n",
    "plt.title('Receiver Operating Characteristic (ROC) Curve for RFC')\n",
    "plt.legend(loc='lower right')\n",
    "plt.show()"
   ]
  },
  {
   "cell_type": "code",
   "execution_count": 49,
   "id": "48f3789b",
   "metadata": {},
   "outputs": [],
   "source": [
    "#for SVC, we use the sample due to computational limitation\n",
    "#for models other than logistic regression i.e for knn and dt\n",
    "df_sample = df_encoded.sample(n=20000)\n",
    "\n",
    "ytarget = df_sample['priority_ec']\n",
    "xdata = df_sample[['timestamp', 'PolicePost', 'CouncilDistrict', 'ZIPCode', 'day', 'district_ec','description_ec',\"incidentLocation_ec\",\"location_ec\",\"Neighborhood_ec\",\"PoliceDistrict_ec\",\"SheriffDistricts_ec\",\"Community_Statistical_Areas_ec\"]]\n",
    "\n",
    "from sklearn.model_selection import train_test_split\n",
    "\n",
    "X_train, X_test, y_train, y_test = train_test_split(xdata, ytarget, test_size = 0.25,\n",
    "                                                    random_state=4)"
   ]
  },
  {
   "cell_type": "code",
   "execution_count": 50,
   "id": "bf3ed470",
   "metadata": {},
   "outputs": [
    {
     "name": "stdout",
     "output_type": "stream",
     "text": [
      "Accuracy: 0.67376\n"
     ]
    }
   ],
   "source": [
    "#Running SVC Model\n",
    "\n",
    "# Feature scaling\n",
    "scaler = StandardScaler()\n",
    "X_train_scaled = scaler.fit_transform(X_train)\n",
    "X_test_scaled = scaler.transform(X_test)\n",
    "\n",
    "# Train SVM model\n",
    "svm_model = SVC(kernel='rbf', C=1.0, gamma='auto')\n",
    "svm_model.fit(X_train_scaled, y_train)\n",
    "\n",
    "# Make predictions\n",
    "y_pred_svc = svm_model.predict(X_test_scaled)\n",
    "\n",
    "# Evaluate model performance\n",
    "accuracy = accuracy_score(y_test, y_pred_svc)\n",
    "svm_model.score(X_test_scaled, y_test)\n",
    "print(\"Accuracy:\", accuracy)\n"
   ]
  },
  {
   "cell_type": "code",
   "execution_count": 51,
   "id": "f038cb1c",
   "metadata": {},
   "outputs": [
    {
     "name": "stdout",
     "output_type": "stream",
     "text": [
      "TP is: 3931\n",
      "TN is: 4491\n",
      "FP is: 2043\n",
      "FN is: 2035\n"
     ]
    },
    {
     "data": {
      "text/plain": [
       "array([[4491, 2043],\n",
       "       [2035, 3931]], dtype=int64)"
      ]
     },
     "execution_count": 51,
     "metadata": {},
     "output_type": "execute_result"
    }
   ],
   "source": [
    "#Confusion Matrix for SVC\n",
    "my_matrix_svc = confusion_matrix(y_test, y_pred_svc)\n",
    "print(\"TP is:\", my_matrix_svc[1,1])\n",
    "print(\"TN is:\", my_matrix_svc[0,0])\n",
    "print(\"FP is:\", my_matrix_svc[0,1])\n",
    "print(\"FN is:\", my_matrix_svc[1,0])\n",
    "my_matrix_svc"
   ]
  },
  {
   "cell_type": "code",
   "execution_count": 52,
   "id": "21d26597",
   "metadata": {},
   "outputs": [
    {
     "name": "stdout",
     "output_type": "stream",
     "text": [
      "Accuracy: 0.67376\n",
      "Precision: 0.658018078339471\n",
      "Recall: 0.658900435802883\n",
      "F1 score: 0.6584589614740369\n"
     ]
    }
   ],
   "source": [
    "#Accuracy, Precision, Recall and F1 Score for SVC\n",
    "accuracy = accuracy_score(y_test,y_pred_svc)\n",
    "precision = precision_score(y_test,y_pred_svc)\n",
    "recall = recall_score(y_test,y_pred_svc)\n",
    "f1 = f1_score(y_test,y_pred_svc)\n",
    "\n",
    "print(\"Accuracy:\", accuracy)\n",
    "print(\"Precision:\", precision)\n",
    "print(\"Recall:\", recall)\n",
    "print(\"F1 score:\", f1)"
   ]
  },
  {
   "cell_type": "code",
   "execution_count": 53,
   "id": "7dc4ea02",
   "metadata": {},
   "outputs": [
    {
     "name": "stdout",
     "output_type": "stream",
     "text": [
      "AUC for SVC: 0.7495837292868957\n"
     ]
    },
    {
     "data": {
      "image/png": "[encoded data removed]",
      "text/plain": [
       "<Figure size 800x600 with 1 Axes>"
      ]
     },
     "metadata": {},
     "output_type": "display_data"
    }
   ],
   "source": [
    "#Plotting ROC Curve for SVC\n",
    "decision_scores = svm_model.decision_function(X_test_scaled)\n",
    "print(\"AUC for SVC:\", roc_auc_score(y_test, decision_scores))\n",
    "fpr, tpr, thresholds = roc_curve(y_test, decision_scores)\n",
    "plt.figure(figsize=(8, 6))\n",
    "plt.plot(fpr, tpr, color='blue', lw=2, label='ROC curve')\n",
    "plt.plot([0, 1], [0, 1], color='red', lw=2, linestyle='--')\n",
    "plt.xlim([0.0, 1.0])\n",
    "plt.ylim([0.0, 1.05])\n",
    "plt.xlabel('False Positive Rate')\n",
    "plt.ylabel('True Positive Rate')\n",
    "plt.title('Receiver Operating Characteristic (ROC) Curve for SVC')\n",
    "plt.legend(loc='lower right')\n",
    "plt.show()"
   ]
  },
  {
   "cell_type": "code",
   "execution_count": null,
   "id": "7f4ff7b1",
   "metadata": {},
   "outputs": [],
   "source": []
  }
 ],
 "metadata": {
  "kernelspec": {
   "display_name": "Python 3 (ipykernel)",
   "language": "python",
   "name": "python3"
  },
  "language_info": {
   "codemirror_mode": {
    "name": "ipython",
    "version": 3
   },
   "file_extension": ".py",
   "mimetype": "text/x-python",
   "name": "python",
   "nbconvert_exporter": "python",
   "pygments_lexer": "ipython3",
   "version": "3.11.5"
  }
 },
 "nbformat": 4,
 "nbformat_minor": 5
}
